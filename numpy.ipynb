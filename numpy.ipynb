{
 "cells": [
  {
   "cell_type": "markdown",
   "metadata": {},
   "source": [
    "## Koncepcja scipy\n",
    "\n",
    "typy danych zmienianie typów"
   ]
  },
  {
   "cell_type": "code",
   "execution_count": 37,
   "metadata": {},
   "outputs": [],
   "source": [
    "import numpy as np\n",
    "import scipy.stats as st"
   ]
  },
  {
   "cell_type": "markdown",
   "metadata": {},
   "source": [
    "## Tworzenie i wymiary numpy\n",
    "\n",
    "Tablice numpy tworzymy na wiele sposobów:\n",
    "\n",
    "* w wyniku działania algorytmów języka Python\n",
    "* poprzez import danych zewnętrznych (najczęściej za pomocą innych bibliotek)\n",
    "* ręcznie, z obiektu iterowalnego, najczęściej listy"
   ]
  },
  {
   "cell_type": "code",
   "execution_count": 2,
   "metadata": {},
   "outputs": [
    {
     "data": {
      "text/plain": [
       "array([0.92556016, 0.48072233, 0.51017278, 0.84127871, 0.17760366,\n",
       "       0.47201047, 0.26063738, 0.00502358, 0.17729248, 0.31742255,\n",
       "       0.1187893 , 0.82518337])"
      ]
     },
     "execution_count": 2,
     "metadata": {},
     "output_type": "execute_result"
    }
   ],
   "source": [
    "losowe = np.random.rand(12)\n",
    "losowe"
   ]
  },
  {
   "cell_type": "code",
   "execution_count": 3,
   "metadata": {},
   "outputs": [
    {
     "data": {
      "text/plain": [
       "array([[1, 2, 3, 4],\n",
       "       [3, 6, 7, 8],\n",
       "       [0, 7, 0, 9]])"
      ]
     },
     "execution_count": 3,
     "metadata": {},
     "output_type": "execute_result"
    }
   ],
   "source": [
    "reczne = np.array([[1,2,3,4],[3,6,7,8],[0,7,0,9]])\n",
    "reczne"
   ]
  },
  {
   "cell_type": "code",
   "execution_count": 4,
   "metadata": {},
   "outputs": [
    {
     "data": {
      "text/plain": [
       "(((12,), (3, 4)), (dtype('float64'), dtype('int64')))"
      ]
     },
     "execution_count": 4,
     "metadata": {},
     "output_type": "execute_result"
    }
   ],
   "source": [
    "(losowe.shape,reczne.shape),(losowe.dtype,reczne.dtype)"
   ]
  },
  {
   "cell_type": "markdown",
   "metadata": {},
   "source": [
    "W pierwszym przypadku tablica ma jeden wymiar, w w drugim dwa wymiary. Podobnie typ danych: w pierwszym przypadku `float64`, w drugim `int64`. Oba typy danych zostały ustalone na podstawie wprowadzonych danych. Domyślnie są to liczby całkowite i zimiennoprzecinkowe. W przypadku napisów typ danych `<U5` zawiera informację że jest to `character string (Unicode)` od długości do 5 znaków u mniej."
   ]
  },
  {
   "cell_type": "code",
   "execution_count": 5,
   "metadata": {},
   "outputs": [
    {
     "data": {
      "text/plain": [
       "((2,), dtype('<U7'))"
      ]
     },
     "execution_count": 5,
     "metadata": {},
     "output_type": "execute_result"
    }
   ],
   "source": [
    "tekst = np.array(['kilka','literek'])\n",
    "(tekst.shape,tekst.dtype) # max 7 znaków"
   ]
  },
  {
   "cell_type": "code",
   "execution_count": 6,
   "metadata": {},
   "outputs": [
    {
     "data": {
      "text/plain": [
       "((12,), dtype('<U1'))"
      ]
     },
     "execution_count": 6,
     "metadata": {},
     "output_type": "execute_result"
    }
   ],
   "source": [
    "tekst = np.array([*'kilkaliterek'])\n",
    "tekst\n",
    "(tekst.shape,tekst.dtype) # 1 znak"
   ]
  },
  {
   "cell_type": "markdown",
   "metadata": {},
   "source": [
    "Tworzenie sekwencji "
   ]
  },
  {
   "cell_type": "code",
   "execution_count": 29,
   "metadata": {},
   "outputs": [
    {
     "data": {
      "text/plain": [
       "array([0, 1, 2, 3, 4, 5, 6, 7, 8, 9])"
      ]
     },
     "execution_count": 29,
     "metadata": {},
     "output_type": "execute_result"
    }
   ],
   "source": [
    "np.zeros(10) # np.ones()\n",
    "np.full((5,5),-1)\n",
    "np.arange(10)"
   ]
  },
  {
   "cell_type": "markdown",
   "metadata": {},
   "source": [
    "### Sposób organizacji danych w tablicach\n",
    "\n",
    "Dane w tablicach są zorganizowane w: \n",
    "* wektory: 1 wymiar: (liczba elementów,) , \n",
    "* *macierze: 2 wymiary: (liczba wierszy, liczba kolumn) \n",
    "* *stosy macierzy: 3 wymiary: (liczba warstw, liczba wierszy, liczba kolumn). \n",
    "* Kolejne wymiary są możliwe ale trudne w obsłudze. \n",
    "\n",
    "Parametr `.shape` określa rozmiar tablicy w każdym wymiarze.\n"
   ]
  },
  {
   "cell_type": "code",
   "execution_count": 7,
   "metadata": {},
   "outputs": [
    {
     "data": {
      "text/plain": [
       "array([[[0.67042146, 0.94728495],\n",
       "        [0.26378626, 0.57218593]],\n",
       "\n",
       "       [[0.80815303, 0.80332132],\n",
       "        [0.63718976, 0.06787339]],\n",
       "\n",
       "       [[0.11600786, 0.70352479],\n",
       "        [0.02258524, 0.83373932]]])"
      ]
     },
     "execution_count": 7,
     "metadata": {},
     "output_type": "execute_result"
    }
   ],
   "source": [
    "losowe = np.random.rand(12)\n",
    "losowe.shape # 1 wymiar\n",
    "losowe.shape = (3,4) # 3 wiersze, 4 kolumn\n",
    "losowe.shape # 2 wymiary\n",
    "losowe.shape = (3,2,2) # 3 warstwy, 2 kolumny, dwa wiersze\n",
    "losowe.shape # 3 wymiary\n",
    "losowe\n",
    "\n"
   ]
  },
  {
   "cell_type": "markdown",
   "metadata": {},
   "source": [
    "Jak widać, wymiarowość tablic można dowolnie zmieniać. Ułożnie elementów pozostaje bez zmian, zmienia się jedynie sposób odczytywania danych:\n"
   ]
  },
  {
   "cell_type": "code",
   "execution_count": 8,
   "metadata": {},
   "outputs": [
    {
     "data": {
      "text/plain": [
       "0.06787338890786188"
      ]
     },
     "execution_count": 8,
     "metadata": {},
     "output_type": "execute_result"
    }
   ],
   "source": [
    "losowe[0] # pobieramy 1 warstwę\n",
    "losowe[1][1] # pobieramy 2 warstwę, drugi wiersz\n",
    "losowe[1][1][1] # pobieramy 2 warstwę, drugi wiersz, drugą kolumnę"
   ]
  },
  {
   "cell_type": "code",
   "execution_count": 9,
   "metadata": {},
   "outputs": [
    {
     "data": {
      "text/plain": [
       "0.06787338890786188"
      ]
     },
     "execution_count": 9,
     "metadata": {},
     "output_type": "execute_result"
    }
   ],
   "source": [
    "losowe[1,1,1] # lub jako kolejne indeksy"
   ]
  },
  {
   "cell_type": "markdown",
   "metadata": {},
   "source": [
    "## Zarządzanie danymi tablicach\n",
    "\n",
    "### Referencje\n",
    "\n",
    "Tablice są modyfikowalne, podobnie jak listy. Zmienna wskazuje na tablicę. Każde przypisanie tablicy do innej zmiennej powoduje powstanie referencji, czyli zmienna wskazuje na ten sam obszar pamięci. Konsekwencją tego zabiegu jest, to że modyfikacja jednej tablicy powoduje modyfikację wszystkich referencji."
   ]
  },
  {
   "cell_type": "code",
   "execution_count": 10,
   "metadata": {},
   "outputs": [
    {
     "data": {
      "text/plain": [
       "array([[  0,   1,   2,   3],\n",
       "       [  4,   5,   6,   7],\n",
       "       [  8,   9,  10, 100]])"
      ]
     },
     "execution_count": 10,
     "metadata": {},
     "output_type": "execute_result"
    }
   ],
   "source": [
    "sekwencja = np.arange(12).reshape((3,4))\n",
    "sekwencja\n",
    "kopia_sekwencji = sekwencja\n",
    "kopia_sekwencji[2,3]= 100\n",
    "sekwencja"
   ]
  },
  {
   "cell_type": "markdown",
   "metadata": {},
   "source": [
    "Można dokonywać operacji na wycinkach tablic. Rola wartości ujemnej w indeksie jest taka sama jak w przypadku list - oznacza indekspowanie od końca."
   ]
  },
  {
   "cell_type": "code",
   "execution_count": 11,
   "metadata": {},
   "outputs": [
    {
     "data": {
      "text/plain": [
       "array([[  5,   7,   9],\n",
       "       [ 13,  15, 106]])"
      ]
     },
     "execution_count": 11,
     "metadata": {},
     "output_type": "execute_result"
    }
   ],
   "source": [
    "sekwencja[:-1,:-1]+sekwencja[1:,1:]\n"
   ]
  },
  {
   "cell_type": "markdown",
   "metadata": {},
   "source": [
    "### Przetwarzanie wierszami i kolumnami. Transpozycja\n",
    "\n",
    "Jeżeli tablica dwuwymiarowa (macierz) wymaga przetwarzania wierszami lub kolumnami, można to uzyskać przez iterację po indeksach lub, znacznie wydajniej, poprzez iterację po wierszach (domyślnie) lub kolumnach, co wymaga wcześniejszej transpozycji macierzy. "
   ]
  },
  {
   "cell_type": "code",
   "execution_count": 12,
   "metadata": {},
   "outputs": [
    {
     "name": "stdout",
     "output_type": "stream",
     "text": [
      "[0 1 2 3]\n",
      "[4 5 6 7]\n",
      "[  8   9  10 100]\n"
     ]
    }
   ],
   "source": [
    "for row in sekwencja:\n",
    "    print(row)"
   ]
  },
  {
   "cell_type": "code",
   "execution_count": 13,
   "metadata": {},
   "outputs": [
    {
     "name": "stdout",
     "output_type": "stream",
     "text": [
      "[0 4 8]\n",
      "[1 5 9]\n",
      "[ 2  6 10]\n",
      "[  3   7 100]\n"
     ]
    }
   ],
   "source": [
    "for column in sekwencja.T:\n",
    "    print(column)"
   ]
  },
  {
   "cell_type": "markdown",
   "metadata": {},
   "source": [
    "Transpozycja zamienia kolejność wzdłuż wierszy na kolejność wzdłuż kolumn. \n",
    "Metoda `flatten()` upraszcza wymiarowość do jednego wymiaru, łącząc dane wiersz po wierszu, a w przypadku macierzy trójwymiarowej, wiersz po wierszu w warstwie a następnie warstwy.\n",
    "\n",
    "> UWAGA: Transpozycja dotyczy wszystkich wymiarów, ale powyżej dwóch jest trudna w zarządzaniu"
   ]
  },
  {
   "cell_type": "code",
   "execution_count": 14,
   "metadata": {},
   "outputs": [
    {
     "data": {
      "text/plain": [
       "array([  0,   1,   2,   3,   4,   5,   6,   7,   8,   9,  10, 100])"
      ]
     },
     "execution_count": 14,
     "metadata": {},
     "output_type": "execute_result"
    }
   ],
   "source": [
    "sekwencja.flatten()"
   ]
  },
  {
   "cell_type": "code",
   "execution_count": 15,
   "metadata": {},
   "outputs": [
    {
     "data": {
      "text/plain": [
       "array([  0,   4,   8,   1,   5,   9,   2,   6,  10,   3,   7, 100])"
      ]
     },
     "execution_count": 15,
     "metadata": {},
     "output_type": "execute_result"
    }
   ],
   "source": [
    "sekwencja.T.flatten()"
   ]
  },
  {
   "cell_type": "code",
   "execution_count": 16,
   "metadata": {},
   "outputs": [
    {
     "data": {
      "text/plain": [
       "array([[[  0,   1],\n",
       "        [  2,   3]],\n",
       "\n",
       "       [[  4,   5],\n",
       "        [  6,   7]],\n",
       "\n",
       "       [[  8,   9],\n",
       "        [ 10, 100]]])"
      ]
     },
     "execution_count": 16,
     "metadata": {},
     "output_type": "execute_result"
    }
   ],
   "source": [
    "sekwencja.reshape(3,2,2)"
   ]
  },
  {
   "cell_type": "code",
   "execution_count": 17,
   "metadata": {},
   "outputs": [
    {
     "data": {
      "text/plain": [
       "array([[[  0,   4,   8],\n",
       "        [  2,   6,  10]],\n",
       "\n",
       "       [[  1,   5,   9],\n",
       "        [  3,   7, 100]]])"
      ]
     },
     "execution_count": 17,
     "metadata": {},
     "output_type": "execute_result"
    }
   ],
   "source": [
    "sekwencja.reshape(3,2,2).T"
   ]
  },
  {
   "cell_type": "markdown",
   "metadata": {},
   "source": [
    "### Dostęp swobodny do wierszy i kolumn\n",
    "\n",
    "Aby uzyskać dostęp do dowolnych wierszy/kolumn w dowolnej kolejności należu argumenty przesłać w formie obiektu iterowalnego: listy lub wektora. Nie można natomiast swobodnie indeksować jednocześnie wierszy i kolumn"
   ]
  },
  {
   "cell_type": "code",
   "execution_count": 18,
   "metadata": {},
   "outputs": [
    {
     "data": {
      "text/plain": [
       "array([[0, 2],\n",
       "       [4, 6]])"
      ]
     },
     "execution_count": 18,
     "metadata": {},
     "output_type": "execute_result"
    }
   ],
   "source": [
    "sekwencja.reshape(3,4)[[0,1],[0,2]] # dziwny wynik\n",
    "sekwencja.reshape(3,4)[[0,1]][:,[0,2]] #OK\n"
   ]
  },
  {
   "cell_type": "markdown",
   "metadata": {},
   "source": [
    "## Operacje matematyczne i statystycznych. \n",
    "\n",
    "Numpy dostarcza kilkadziesiąt funkcji pozwalających na wykonywanie różnego rodzaju operacji matematycznych i statystycznych. Część funkcji bardziej zaawansowanych jest dostępna w pakiecie `scipy`"
   ]
  },
  {
   "cell_type": "code",
   "execution_count": 34,
   "metadata": {},
   "outputs": [],
   "source": [
    "sekwencja =  np.random.rand(20,4)"
   ]
  },
  {
   "cell_type": "code",
   "execution_count": 36,
   "metadata": {},
   "outputs": [
    {
     "data": {
      "text/plain": [
       "array([0.46638077, 0.46577563, 0.4531743 , 0.63354295])"
      ]
     },
     "execution_count": 36,
     "metadata": {},
     "output_type": "execute_result"
    }
   ],
   "source": [
    "sekwencja.mean(axis=0)\n"
   ]
  },
  {
   "cell_type": "code",
   "execution_count": 40,
   "metadata": {},
   "outputs": [
    {
     "data": {
      "text/plain": [
       "array([ 0.24603929, -0.27044684,  0.18603944, -0.51257883])"
      ]
     },
     "execution_count": 40,
     "metadata": {},
     "output_type": "execute_result"
    }
   ],
   "source": [
    "st.skew(sekwencja,axis=0)\n",
    "np.apply_along_axis(st.skew,0,sekwencja) # wygląda dokładnie tak jak apply w R"
   ]
  },
  {
   "cell_type": "code",
   "execution_count": 41,
   "metadata": {},
   "outputs": [
    {
     "data": {
      "text/plain": [
       "array([35.9783022 , 35.18242827, 29.47837419, 53.95097414])"
      ]
     },
     "execution_count": 41,
     "metadata": {},
     "output_type": "execute_result"
    }
   ],
   "source": [
    "np.apply_along_axis(lambda x: np.sum(x)/np.std(x),0,sekwencja)"
   ]
  },
  {
   "cell_type": "markdown",
   "metadata": {},
   "source": [
    "## Algebra liniowa"
   ]
  },
  {
   "cell_type": "code",
   "execution_count": 20,
   "metadata": {},
   "outputs": [
    {
     "data": {
      "text/plain": [
       "array([0.73529412, 0.41176471])"
      ]
     },
     "execution_count": 20,
     "metadata": {},
     "output_type": "execute_result"
    }
   ],
   "source": [
    "X = [[4,5],[-2,6]]\n",
    "y = [5,1]\n",
    "np.linalg.solve(X,y)"
   ]
  },
  {
   "cell_type": "code",
   "execution_count": 21,
   "metadata": {},
   "outputs": [
    {
     "data": {
      "text/plain": [
       "array([ 2.04537671, -0.29366438, -0.59674658,  1.45119863])"
      ]
     },
     "execution_count": 21,
     "metadata": {},
     "output_type": "execute_result"
    }
   ],
   "source": [
    "X = [[2,2,11,9],[4,1,3,2],[9,16,12,1],[3,2,0,1]]\n",
    "y = [10,9,8,7]\n",
    "np.linalg.solve(X,y)"
   ]
  },
  {
   "cell_type": "markdown",
   "metadata": {},
   "source": [
    "### Zadanie\n",
    "\n",
    "Rozwiązać równanie:\n",
    "\n",
    "$$ \n",
    "3 x_1 + 6 x_2 + 2 x_3 = 11 \\\\\n",
    "4 x_1 - 2 x_2 - 2 x_3 = 0 \\\\\n",
    "4 x_1 + 5 x_2 + 7 x_3 = 22\n",
    "$$"
   ]
  },
  {
   "cell_type": "markdown",
   "metadata": {},
   "source": [
    "### Zadanie\n",
    "\n",
    "Dla poniższego zbioru punktów, wyznaczyć prostą regresji"
   ]
  },
  {
   "cell_type": "code",
   "execution_count": 22,
   "metadata": {},
   "outputs": [
    {
     "data": {
      "text/plain": [
       "(1.0613547671239152, -0.4356407174358238)"
      ]
     },
     "execution_count": 22,
     "metadata": {},
     "output_type": "execute_result"
    }
   ],
   "source": [
    "x = np.array([.11,3.2,4.9,6.1,8.1,9.0,11.5,12.1])\n",
    "y = np.array([0.5,2.2,5.4,4.1,7.5,11.2,12.1,11.9])\n",
    "\n",
    "A = np.vstack([x, np.ones(len(x))]).T\n",
    "a, b = np.linalg.lstsq(A,y,rcond=None)[0]\n",
    "a,b\n"
   ]
  },
  {
   "cell_type": "code",
   "execution_count": 23,
   "metadata": {},
   "outputs": [
    {
     "data": {
      "image/png": "[encoded data removed]",
      "text/plain": [
       "<Figure size 432x288 with 1 Axes>"
      ]
     },
     "metadata": {
      "needs_background": "light"
     },
     "output_type": "display_data"
    }
   ],
   "source": [
    "import matplotlib.pyplot as plt\n",
    "_ = plt.plot(x, y, 'o', label='Original data', markersize=10)\n",
    "_ = plt.plot(x, a*x + b, 'r', label='Fitted line')\n",
    "_ = plt.legend()\n",
    "plt.show()\n"
   ]
  },
  {
   "cell_type": "markdown",
   "metadata": {},
   "source": [
    "## Maskowane macierze"
   ]
  },
  {
   "cell_type": "code",
   "execution_count": 57,
   "metadata": {},
   "outputs": [
    {
     "data": {
      "text/plain": [
       "array([[ 8,  8,  8,  2, 10],\n",
       "       [ 2,  6,  2,  3,  8],\n",
       "       [ 9,  6,  8,  3,  8],\n",
       "       [ 6,  9,  5,  6,  2],\n",
       "       [ 0, 10, 10,  5,  2]])"
      ]
     },
     "execution_count": 57,
     "metadata": {},
     "output_type": "execute_result"
    }
   ],
   "source": [
    "macierz = np.round(np.random.rand(5,5)*10).astype(int) # losowe int\n",
    "macierz"
   ]
  },
  {
   "cell_type": "code",
   "execution_count": 58,
   "metadata": {},
   "outputs": [
    {
     "name": "stderr",
     "output_type": "stream",
     "text": [
      "/tmp/ipykernel_13920/3033784962.py:1: RuntimeWarning: divide by zero encountered in true_divide\n",
      "  macierz_invalid = 7/macierz\n"
     ]
    },
    {
     "data": {
      "text/plain": [
       "array([[0.875     , 0.875     , 0.875     , 3.5       , 0.7       ],\n",
       "       [3.5       , 1.16666667, 3.5       , 2.33333333, 0.875     ],\n",
       "       [0.77777778, 1.16666667, 0.875     , 2.33333333, 0.875     ],\n",
       "       [1.16666667, 0.77777778, 1.4       , 1.16666667, 3.5       ],\n",
       "       [       inf, 0.7       , 0.7       , 1.4       , 3.5       ]])"
      ]
     },
     "execution_count": 58,
     "metadata": {},
     "output_type": "execute_result"
    }
   ],
   "source": [
    "macierz_invalid = 7/macierz\n",
    "macierz_invalid"
   ]
  },
  {
   "cell_type": "code",
   "execution_count": 59,
   "metadata": {},
   "outputs": [
    {
     "data": {
      "text/plain": [
       "masked_array(\n",
       "  data=[[0.875, 0.875, 0.875, 3.5, 0.7],\n",
       "        [3.5, 1.1666666666666667, 3.5, 2.3333333333333335, 0.875],\n",
       "        [0.7777777777777778, 1.1666666666666667, 0.875,\n",
       "         2.3333333333333335, 0.875],\n",
       "        [1.1666666666666667, 0.7777777777777778, 1.4, 1.1666666666666667,\n",
       "         3.5],\n",
       "        [--, 0.7, 0.7, 1.4, 3.5]],\n",
       "  mask=[[False, False, False, False, False],\n",
       "        [False, False, False, False, False],\n",
       "        [False, False, False, False, False],\n",
       "        [False, False, False, False, False],\n",
       "        [ True, False, False, False, False]],\n",
       "  fill_value=0)"
      ]
     },
     "execution_count": 59,
     "metadata": {},
     "output_type": "execute_result"
    }
   ],
   "source": [
    "masked = np.ma.masked_values(macierz,0)\n",
    "7/masked"
   ]
  },
  {
   "cell_type": "code",
   "execution_count": 60,
   "metadata": {},
   "outputs": [
    {
     "data": {
      "text/plain": [
       "masked_array(\n",
       "  data=[[0.875, 0.875, 0.875, 3.5, 0.7],\n",
       "        [3.5, 1.1666666666666667, 3.5, 2.3333333333333335, 0.875],\n",
       "        [0.7777777777777778, 1.1666666666666667, 0.875,\n",
       "         2.3333333333333335, 0.875],\n",
       "        [1.1666666666666667, 0.7777777777777778, 1.4, 1.1666666666666667,\n",
       "         3.5],\n",
       "        [--, 0.7, 0.7, 1.4, 3.5]],\n",
       "  mask=[[False, False, False, False, False],\n",
       "        [False, False, False, False, False],\n",
       "        [False, False, False, False, False],\n",
       "        [False, False, False, False, False],\n",
       "        [ True, False, False, False, False]],\n",
       "  fill_value=1e+20)"
      ]
     },
     "execution_count": 60,
     "metadata": {},
     "output_type": "execute_result"
    }
   ],
   "source": [
    "np.ma.masked_invalid(macierz_invalid)"
   ]
  }
 ],
 "metadata": {
  "kernelspec": {
   "display_name": "venv",
   "language": "python",
   "name": "python3"
  },
  "language_info": {
   "codemirror_mode": {
    "name": "ipython",
    "version": 3
   },
   "file_extension": ".py",
   "mimetype": "text/x-python",
   "name": "python",
   "nbconvert_exporter": "python",
   "pygments_lexer": "ipython3",
   "version": "3.9.5"
  },
  "orig_nbformat": 4
 },
 "nbformat": 4,
 "nbformat_minor": 2
}
