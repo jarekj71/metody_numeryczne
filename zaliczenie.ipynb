{
 "cells": [
  {
   "cell_type": "markdown",
   "metadata": {},
   "source": [
    "# Zaliczenie\n",
    "\n",
    "## Zadanie 3.5\n",
    "\n",
    "* Zaimportować dane z pliku [dane/piezometr.csv](dane/zal_piezometr.csv) do ramki danych Pandas. \n",
    "* W czasie importu wybrać opcję pozwalającą na zaimportowanie kolumny zawierającej 'date' w formacie datetime\n",
    "* Wyselekcjonować dowolny miesiąc z zakresu danych. \n",
    "  > **UWAGA:** aby uzyskać **3.5** należy dokonać selekcji przy pomocy indexera .loc i narzędzi datetime (date.dt.month itp) Użycie .iloc i numerów wierszy obniża ocenę do **3.0**\n",
    "* Wykonać wykres bliźniaczy (ax.twinx()) na jednej osi y umieszczamy stan morza, na drugiej osi opady w postaci wykresu słupkowego.\n",
    "* Na podstawie systemu pomocy sformatować wykres.\n",
    "\n",
    "## Dodatkowe zadanie na 4 (zadanie na 3.5 też musi być zrobione)\n",
    "\n",
    "* Pogrupować dane według miesięcy, jako zmienną agregującą wybrać średnią. \n",
    "* Wykonać wykres punktowy pokazujący zależność pomiędzy poziomem morza a poziomem wody w piezometrze\n",
    "\n",
    "## Dodatkowe zadanie na 5 (zadanie na 3.5 też musi być zrobione)\n",
    "\n",
    "* Do poprzedniego wykresu dodać prostą regresji. Jak? Odpowiedź gdzieś w materiałach do zajęć.\n",
    "* Na podstawie systemu pomocy sformatować wykres."
   ]
  }
 ],
 "metadata": {
  "language_info": {
   "name": "python"
  }
 },
 "nbformat": 4,
 "nbformat_minor": 2
}
